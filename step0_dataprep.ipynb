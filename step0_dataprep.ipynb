{
 "cells": [
  {
   "cell_type": "code",
   "execution_count": 1,
   "id": "467c48f6",
   "metadata": {},
   "outputs": [],
   "source": [
    "import os, collections, random, string\n",
    "import pandas as pd"
   ]
  },
  {
   "cell_type": "code",
   "execution_count": 3,
   "id": "3a2dd3ea",
   "metadata": {},
   "outputs": [],
   "source": [
    "# Define tf and datapaths\n",
    "TF = 'ctcf'\n",
    "\n",
    "bedpath = \"/home/yogesh/data/tfbind/encodeDream/%s/\"%(TF)\n",
    "outpath = \"/home/yogesh/data/tfbind/encodeDream/%s/fasta_out/\"%(TF)\n",
    "refpath = \"/home/yogesh/projects/202104_tfbind/data/reference/hg19.fa\"\n",
    "\n",
    "file_ = 'test_chr_test_celline_trim.tsv'\n",
    "\n",
    "## Extract fasta from bedfile\n",
    "#cmd = \"bedtools getfasta -fi %s -bed %s -fo %s\"%(refpath, bedpath+file_, outpath+file_.split('.')[0]+'.fa')\n",
    "#os.system(cmd)"
   ]
  },
  {
   "cell_type": "code",
   "execution_count": 4,
   "id": "81b91e5d",
   "metadata": {},
   "outputs": [
    {
     "name": "stdout",
     "output_type": "stream",
     "text": [
      "Counter({'U': 8505486, 'A': 257581, 'B': 79944})\n"
     ]
    },
    {
     "data": {
      "text/html": [
       "<div>\n",
       "<style scoped>\n",
       "    .dataframe tbody tr th:only-of-type {\n",
       "        vertical-align: middle;\n",
       "    }\n",
       "\n",
       "    .dataframe tbody tr th {\n",
       "        vertical-align: top;\n",
       "    }\n",
       "\n",
       "    .dataframe thead th {\n",
       "        text-align: right;\n",
       "    }\n",
       "</style>\n",
       "<table border=\"1\" class=\"dataframe\">\n",
       "  <thead>\n",
       "    <tr style=\"text-align: right;\">\n",
       "      <th></th>\n",
       "      <th>0</th>\n",
       "      <th>1</th>\n",
       "      <th>2</th>\n",
       "      <th>3</th>\n",
       "      <th>4</th>\n",
       "    </tr>\n",
       "  </thead>\n",
       "  <tbody>\n",
       "    <tr>\n",
       "      <th>0</th>\n",
       "      <td>chr1</td>\n",
       "      <td>600</td>\n",
       "      <td>800</td>\n",
       "      <td>U</td>\n",
       "      <td>U</td>\n",
       "    </tr>\n",
       "    <tr>\n",
       "      <th>1</th>\n",
       "      <td>chr1</td>\n",
       "      <td>650</td>\n",
       "      <td>850</td>\n",
       "      <td>U</td>\n",
       "      <td>U</td>\n",
       "    </tr>\n",
       "    <tr>\n",
       "      <th>2</th>\n",
       "      <td>chr1</td>\n",
       "      <td>700</td>\n",
       "      <td>900</td>\n",
       "      <td>U</td>\n",
       "      <td>U</td>\n",
       "    </tr>\n",
       "    <tr>\n",
       "      <th>3</th>\n",
       "      <td>chr1</td>\n",
       "      <td>750</td>\n",
       "      <td>950</td>\n",
       "      <td>U</td>\n",
       "      <td>U</td>\n",
       "    </tr>\n",
       "    <tr>\n",
       "      <th>4</th>\n",
       "      <td>chr1</td>\n",
       "      <td>800</td>\n",
       "      <td>1000</td>\n",
       "      <td>U</td>\n",
       "      <td>U</td>\n",
       "    </tr>\n",
       "    <tr>\n",
       "      <th>...</th>\n",
       "      <td>...</td>\n",
       "      <td>...</td>\n",
       "      <td>...</td>\n",
       "      <td>...</td>\n",
       "      <td>...</td>\n",
       "    </tr>\n",
       "    <tr>\n",
       "      <th>8843006</th>\n",
       "      <td>chr8</td>\n",
       "      <td>146363200</td>\n",
       "      <td>146363400</td>\n",
       "      <td>U</td>\n",
       "      <td>U</td>\n",
       "    </tr>\n",
       "    <tr>\n",
       "      <th>8843007</th>\n",
       "      <td>chr8</td>\n",
       "      <td>146363250</td>\n",
       "      <td>146363450</td>\n",
       "      <td>U</td>\n",
       "      <td>U</td>\n",
       "    </tr>\n",
       "    <tr>\n",
       "      <th>8843008</th>\n",
       "      <td>chr8</td>\n",
       "      <td>146363300</td>\n",
       "      <td>146363500</td>\n",
       "      <td>U</td>\n",
       "      <td>U</td>\n",
       "    </tr>\n",
       "    <tr>\n",
       "      <th>8843009</th>\n",
       "      <td>chr8</td>\n",
       "      <td>146363350</td>\n",
       "      <td>146363550</td>\n",
       "      <td>U</td>\n",
       "      <td>U</td>\n",
       "    </tr>\n",
       "    <tr>\n",
       "      <th>8843010</th>\n",
       "      <td>chr8</td>\n",
       "      <td>146363400</td>\n",
       "      <td>146363600</td>\n",
       "      <td>U</td>\n",
       "      <td>U</td>\n",
       "    </tr>\n",
       "  </tbody>\n",
       "</table>\n",
       "<p>8843011 rows × 5 columns</p>\n",
       "</div>"
      ],
      "text/plain": [
       "            0          1          2  3  4\n",
       "0        chr1        600        800  U  U\n",
       "1        chr1        650        850  U  U\n",
       "2        chr1        700        900  U  U\n",
       "3        chr1        750        950  U  U\n",
       "4        chr1        800       1000  U  U\n",
       "...       ...        ...        ... .. ..\n",
       "8843006  chr8  146363200  146363400  U  U\n",
       "8843007  chr8  146363250  146363450  U  U\n",
       "8843008  chr8  146363300  146363500  U  U\n",
       "8843009  chr8  146363350  146363550  U  U\n",
       "8843010  chr8  146363400  146363600  U  U\n",
       "\n",
       "[8843011 rows x 5 columns]"
      ]
     },
     "execution_count": 4,
     "metadata": {},
     "output_type": "execute_result"
    }
   ],
   "source": [
    "# Import bedfile to df\n",
    "bed = pd.read_csv(bedpath+file_, sep='\\t', header=None)\n",
    "print(collections.Counter(bed[3]))\n",
    "bed"
   ]
  },
  {
   "cell_type": "code",
   "execution_count": 5,
   "id": "c458da99",
   "metadata": {},
   "outputs": [
    {
     "name": "stderr",
     "output_type": "stream",
     "text": [
      "17686022it [00:18, 970838.86it/s] \n"
     ]
    }
   ],
   "source": [
    "# Filter fasta file\n",
    "from tqdm import tqdm\n",
    "filepath = outpath+file_.split('.')[0]+'.fa'\n",
    "n_count, t_seq, n_seqs = [], 0, 0\n",
    "\n",
    "dict_ = {}\n",
    "\n",
    "with open(filepath) as fp:\n",
    "    for cnt, line in tqdm(enumerate(fp)):\n",
    "        # print(cnt, line)\n",
    "        if cnt%2==0:\n",
    "            key = line[1:].rstrip(\"\\n\")\n",
    "            key_ = key\n",
    "        else:\n",
    "            l = line.rstrip(\"\\n\").upper()\n",
    "            if 'N' in l:\n",
    "                n_seqs+=1\n",
    "                n_count.append(l.count('N'))\n",
    "                dict_[key_] = 'NP' # N-Absent\n",
    "            else:\n",
    "                dict_[key_] = 'NA' # N-present\n",
    "            t_seq+=1"
   ]
  },
  {
   "cell_type": "code",
   "execution_count": 6,
   "id": "cf0187c1",
   "metadata": {},
   "outputs": [
    {
     "name": "stderr",
     "output_type": "stream",
     "text": [
      "100%|██████████| 8843011/8843011 [55:55<00:00, 2635.37it/s]\n"
     ]
    }
   ],
   "source": [
    "# Map presese/absence (in dict_) of \"N\" to the bed file\n",
    "na_list = []\n",
    "for row in tqdm(range(len(bed))):\n",
    "    #print(bed.iloc[row])\n",
    "    if dict_[bed.iloc[row][0]+':'+str(bed.iloc[row][1])+'-'+str(bed.iloc[row][2])] == 'NP':\n",
    "        na_list.append('NP')\n",
    "    else:\n",
    "        na_list.append('NA')\n",
    "        \n",
    "# Add na_list to bed df\n",
    "bed[5] = na_list"
   ]
  },
  {
   "cell_type": "code",
   "execution_count": 8,
   "id": "2f561243",
   "metadata": {},
   "outputs": [
    {
     "data": {
      "text/plain": [
       "(8843011, 8843011)"
      ]
     },
     "execution_count": 8,
     "metadata": {},
     "output_type": "execute_result"
    }
   ],
   "source": [
    "len(na_list), len(bed)"
   ]
  },
  {
   "cell_type": "code",
   "execution_count": 11,
   "id": "b188405e",
   "metadata": {},
   "outputs": [
    {
     "data": {
      "text/plain": [
       "Counter({'NP': 809361, 'NA': 8033650})"
      ]
     },
     "execution_count": 11,
     "metadata": {},
     "output_type": "execute_result"
    }
   ],
   "source": [
    "collections.Counter(na_list)"
   ]
  },
  {
   "cell_type": "code",
   "execution_count": 19,
   "id": "6b6136af",
   "metadata": {},
   "outputs": [],
   "source": [
    "# selecting rows based on condition\n",
    "U_bed_np = bed[(bed[3]=='U') & (bed[5]=='NP')]\n",
    "B_bed_np = bed[(bed[3]=='B') & (bed[5]=='NP')]\n",
    "A_bed_np = bed[(bed[3]=='A') & (bed[5]=='NP')]\n",
    "\n",
    "# selecting rows based on condition\n",
    "U_bed_na = bed[(bed[3]=='U') & (bed[5]=='NA')]\n",
    "B_bed_na = bed[(bed[3]=='B') & (bed[5]=='NA')]\n",
    "A_bed_na = bed[(bed[3]=='A') & (bed[5]=='NA')]"
   ]
  },
  {
   "cell_type": "code",
   "execution_count": 39,
   "id": "57e078b8",
   "metadata": {},
   "outputs": [
    {
     "name": "stdout",
     "output_type": "stream",
     "text": [
      "# Total sequences\n",
      "Unbound: 8505486 Bound: 79944 Ambigious: 257581\n",
      "\n",
      "# For seqs without any 'N'\n",
      "Unbound: 7696128 Bound: 79944 Ambigious: 257578\n",
      "\n",
      "# For seqs containing 'N'\n",
      "Unbound: 809358 Bound: 0 Ambigious: 3\n",
      "Fraction of total sequences with \"N\": 0.09152549962902908\n"
     ]
    },
    {
     "data": {
      "image/png": "[encoded data removed]",
      "text/plain": [
       "<Figure size 432x288 with 1 Axes>"
      ]
     },
     "metadata": {
      "needs_background": "light"
     },
     "output_type": "display_data"
    }
   ],
   "source": [
    "# Plot/Display statistics\n",
    "import matplotlib.pyplot as plt\n",
    "plt.hist(n_count)\n",
    "plt.xlabel('Number of N in seqs', fontsize=14)\n",
    "plt.ylabel('Number of sequences', fontsize=14)\n",
    "plt.title(\"Frequency of N in seqs containing N\", fontsize=14)\n",
    "\n",
    "print(\"# Total sequences\")\n",
    "print('Unbound:', len(bed[bed[3]=='U']), 'Bound:', len(bed[bed[3]=='B']), 'Ambigious:', len(bed[bed[3]=='A']))\n",
    "print()\n",
    "print(\"# For seqs without any 'N'\")\n",
    "print('Unbound:', len(U_bed_na), 'Bound:', len(B_bed_na), 'Ambigious:', len(A_bed_na))\n",
    "print()\n",
    "print(\"# For seqs containing 'N'\")\n",
    "print('Unbound:', len(U_bed_np), 'Bound:', len(B_bed_np), 'Ambigious:', len(A_bed_np))\n",
    "print('Fraction of total sequences with \"N\":', n_seqs/t_seq)\n",
    "# print(collections.Counter(n_count))"
   ]
  },
  {
   "cell_type": "code",
   "execution_count": 41,
   "id": "37eb93ff",
   "metadata": {},
   "outputs": [],
   "source": [
    "bed.to_csv('/home/yogesh/projects/202104_tfbind/data/processed_bed.csv')"
   ]
  },
  {
   "cell_type": "code",
   "execution_count": 17,
   "id": "3564a4af",
   "metadata": {},
   "outputs": [
    {
     "data": {
      "text/plain": [
       "'NNNNNNNNNNNGAHSJCNNNNN'"
      ]
     },
     "execution_count": 17,
     "metadata": {},
     "output_type": "execute_result"
    }
   ],
   "source": [
    "l = 'NNNNNNNNNNNgahsjcnnnnn\\n'\n",
    "l_ = l.rstrip(\"\\n\").upper()\n",
    "l_.count('N')\n",
    "l_"
   ]
  }
 ],
 "metadata": {
  "kernelspec": {
   "display_name": "Python 3",
   "language": "python",
   "name": "python3"
  },
  "language_info": {
   "codemirror_mode": {
    "name": "ipython",
    "version": 3
   },
   "file_extension": ".py",
   "mimetype": "text/x-python",
   "name": "python",
   "nbconvert_exporter": "python",
   "pygments_lexer": "ipython3",
   "version": "3.6.13"
  }
 },
 "nbformat": 4,
 "nbformat_minor": 5
}
